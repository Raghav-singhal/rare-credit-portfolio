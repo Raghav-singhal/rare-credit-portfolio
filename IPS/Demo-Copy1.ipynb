{
 "cells": [
  {
   "cell_type": "code",
   "execution_count": 14,
   "metadata": {
    "collapsed": false
   },
   "outputs": [
    {
     "name": "stderr",
     "output_type": "stream",
     "text": [
      "\n",
      "\n",
      "selection 0:   0%|          | 0/20 [00:00<?, ?it/s]\n",
      "\n",
      "\n",
      "\n",
      "\n",
      "\n",
      "\n",
      "\n",
      "\n",
      "\n",
      "selection 2:   0%|          | 0/20 [00:00<?, ?it/s]\u001b[A\u001b[A\u001b[A\u001b[A\n",
      "\n",
      "\n",
      "\n",
      "\u001b[A\u001b[A\n",
      "\n",
      "\u001b[A\u001b[A\u001b[A\u001b[A\u001b[A\u001b[A\n",
      "\n",
      "\n",
      "\n",
      "\n",
      "\n",
      "\n",
      "\u001b[A\u001b[A\u001b[A\u001b[A\u001b[A\u001b[A\u001b[A\u001b[A\u001b[A\u001b[A\u001b[A\u001b[A\n",
      "\n",
      "\n",
      "\n",
      "\n",
      "\n",
      "\n",
      "\n",
      "selection 4:   0%|          | 0/20 [00:00<?, ?it/s]\u001b[A\u001b[A\u001b[A\u001b[A\u001b[A\u001b[A\u001b[A\u001b[A\n",
      "\n",
      "\n",
      "\n",
      "\n",
      "\n",
      "\n",
      "\n"
     ]
    },
    {
     "ename": "TypeError",
     "evalue": "mutation() takes 5 positional arguments but 6 were given",
     "output_type": "error",
     "traceback": [
      "\u001b[0;31m---------------------------------------------------------------------------\u001b[0m",
      "\u001b[0;31mRemoteTraceback\u001b[0m                           Traceback (most recent call last)",
      "\u001b[0;31mRemoteTraceback\u001b[0m: \n\"\"\"\nTraceback (most recent call last):\n  File \"/opt/anaconda3/lib/python3.6/multiprocessing/pool.py\", line 119, in worker\n    result = (True, func(*args, **kwds))\n  File \"/home/srivas/rare-credit-portfolio/IPS/main.py\", line 18, in runIPS\n    parametricFns.B, parametricFns.Cfn, nFn)\nTypeError: mutation() takes 5 positional arguments but 6 were given\n\"\"\"",
      "\nThe above exception was the direct cause of the following exception:\n",
      "\u001b[0;31mTypeError\u001b[0m                                 Traceback (most recent call last)",
      "\u001b[0;32m/home/srivas/rare-credit-portfolio/IPS/main.py\u001b[0m in \u001b[0;36m<module>\u001b[0;34m()\u001b[0m\n\u001b[1;32m     71\u001b[0m             runIPS, (X0, params, n, alpha[i], barriers, i)) for i in range(len(alpha))]\n\u001b[1;32m     72\u001b[0m         \u001b[0;32mfor\u001b[0m \u001b[0mi\u001b[0m \u001b[0;32min\u001b[0m \u001b[0mrange\u001b[0m\u001b[0;34m(\u001b[0m\u001b[0mlen\u001b[0m\u001b[0;34m(\u001b[0m\u001b[0malpha\u001b[0m\u001b[0;34m)\u001b[0m\u001b[0;34m)\u001b[0m\u001b[0;34m:\u001b[0m\u001b[0;34m\u001b[0m\u001b[0m\n\u001b[0;32m---> 73\u001b[0;31m             \u001b[0mXni\u001b[0m\u001b[0;34m,\u001b[0m \u001b[0mWni\u001b[0m\u001b[0;34m,\u001b[0m \u001b[0mnorm_constsi\u001b[0m\u001b[0;34m,\u001b[0m \u001b[0mdefault_probi\u001b[0m \u001b[0;34m=\u001b[0m \u001b[0mmultipleresults\u001b[0m\u001b[0;34m[\u001b[0m\u001b[0mi\u001b[0m\u001b[0;34m]\u001b[0m\u001b[0;34m.\u001b[0m\u001b[0mget\u001b[0m\u001b[0;34m(\u001b[0m\u001b[0;34m)\u001b[0m\u001b[0;34m\u001b[0m\u001b[0m\n\u001b[0m\u001b[1;32m     74\u001b[0m             \u001b[0mXn\u001b[0m\u001b[0;34m.\u001b[0m\u001b[0mappend\u001b[0m\u001b[0;34m(\u001b[0m\u001b[0mXni\u001b[0m\u001b[0;34m)\u001b[0m\u001b[0;34m\u001b[0m\u001b[0m\n\u001b[1;32m     75\u001b[0m             \u001b[0mWn\u001b[0m\u001b[0;34m.\u001b[0m\u001b[0mappend\u001b[0m\u001b[0;34m(\u001b[0m\u001b[0mWni\u001b[0m\u001b[0;34m)\u001b[0m\u001b[0;34m\u001b[0m\u001b[0m\n",
      "\u001b[0;32m/opt/anaconda3/lib/python3.6/multiprocessing/pool.py\u001b[0m in \u001b[0;36mget\u001b[0;34m(self, timeout)\u001b[0m\n\u001b[1;32m    606\u001b[0m             \u001b[0;32mreturn\u001b[0m \u001b[0mself\u001b[0m\u001b[0;34m.\u001b[0m\u001b[0m_value\u001b[0m\u001b[0;34m\u001b[0m\u001b[0m\n\u001b[1;32m    607\u001b[0m         \u001b[0;32melse\u001b[0m\u001b[0;34m:\u001b[0m\u001b[0;34m\u001b[0m\u001b[0m\n\u001b[0;32m--> 608\u001b[0;31m             \u001b[0;32mraise\u001b[0m \u001b[0mself\u001b[0m\u001b[0;34m.\u001b[0m\u001b[0m_value\u001b[0m\u001b[0;34m\u001b[0m\u001b[0m\n\u001b[0m\u001b[1;32m    609\u001b[0m \u001b[0;34m\u001b[0m\u001b[0m\n\u001b[1;32m    610\u001b[0m     \u001b[0;32mdef\u001b[0m \u001b[0m_set\u001b[0m\u001b[0;34m(\u001b[0m\u001b[0mself\u001b[0m\u001b[0;34m,\u001b[0m \u001b[0mi\u001b[0m\u001b[0;34m,\u001b[0m \u001b[0mobj\u001b[0m\u001b[0;34m)\u001b[0m\u001b[0;34m:\u001b[0m\u001b[0;34m\u001b[0m\u001b[0m\n",
      "\u001b[0;31mTypeError\u001b[0m: mutation() takes 5 positional arguments but 6 were given"
     ]
    }
   ],
   "source": [
    "%run main.py {'--nportfolio 200'} {'--alpha 0.05 0.1 0.15 0.2 0.25 0.3 0.35 0.4'}"
   ]
  },
  {
   "cell_type": "code",
   "execution_count": 2,
   "metadata": {
    "collapsed": false
   },
   "outputs": [
    {
     "data": {
      "text/plain": [
       "array([  7.03919432e-01,   2.46029338e-03,   8.14268899e-04,\n",
       "         2.20323514e-04,   8.69422294e-05,   2.31398332e-05,\n",
       "         2.86856057e-05,   3.43662017e-05,   8.22978602e-06,\n",
       "         5.24047620e-06,   9.27657022e-06,   2.13227320e-06,\n",
       "         2.17973023e-06,   3.26038610e-06,   2.99953267e-06,\n",
       "         9.41285675e-07,   9.37625325e-07,   1.89008424e-06,\n",
       "         3.38440279e-07,   2.97357736e-07,   1.91017963e-07,\n",
       "         1.67680185e-07,   1.49744101e-07,   1.70821493e-07,\n",
       "         1.75054223e-07,   1.76137417e-07,   8.59377002e-08,\n",
       "         6.63124281e-08,   3.72151702e-08,   4.43178971e-08,\n",
       "         4.38920467e-08,   1.02530210e-08,   4.22464501e-08,\n",
       "         5.25692216e-09,   7.75545505e-09,   5.36512471e-09,\n",
       "         9.12368819e-09,   1.49434891e-08,   4.21176246e-09,\n",
       "         2.84557199e-09,   3.99353110e-09,   3.90715704e-10,\n",
       "         4.64652895e-10,   1.00754940e-09,   2.14300785e-09,\n",
       "         2.89373287e-10,   8.09201476e-11,   5.52119894e-10,\n",
       "         1.58920114e-10,   3.33561292e-10,   1.47864783e-10,\n",
       "         3.68679954e-11,   1.10870455e-10,   9.09159840e-11,\n",
       "         4.17472541e-11,   5.63485961e-11,   7.22184842e-11,\n",
       "         8.16990325e-11,   9.19507696e-11,   2.93359952e-11,\n",
       "         1.62996334e-11,   0.00000000e+00,   9.77959045e-11,\n",
       "         4.13478911e-11,   8.40324095e-12,   1.07594595e-11,\n",
       "         1.20752605e-12,   7.24775862e-12,   7.23250775e-12,\n",
       "         1.98351350e-11,   1.61170320e-12,   2.74169528e-12,\n",
       "         1.68542633e-12,   2.61316519e-12,   3.92363108e-13,\n",
       "         8.00393602e-13,   9.22140977e-13,   7.45203762e-13,\n",
       "         1.74454707e-13,   1.23122486e-13,   1.10576817e-13,\n",
       "         4.85377569e-14,   6.32717326e-14,   4.64422035e-14,\n",
       "         3.19129557e-14,   5.74666242e-14,   3.95566893e-14,\n",
       "         1.12937612e-14,   2.37393731e-14,   1.61728352e-14,\n",
       "         1.05594941e-14,   9.35706236e-15,   3.12170874e-15,\n",
       "         4.14558781e-15,   2.38851805e-15,   2.81368882e-15,\n",
       "         1.04421254e-15,   1.71473247e-15,   7.76203819e-16,\n",
       "         6.17590640e-16,   1.36920136e-16,   1.61312406e-16,\n",
       "         4.81559772e-17,   2.66695885e-17,   1.23213949e-17,\n",
       "         8.16684595e-17,   7.16210936e-18,   4.72708913e-18,\n",
       "         4.19978136e-18,   2.88537060e-18,   4.26210139e-19,\n",
       "         2.86637704e-19,   1.23162808e-19,   1.02386062e-19,\n",
       "         2.42226684e-20,   8.14430438e-21,   1.37223167e-20,\n",
       "         6.96246256e-21,   0.00000000e+00,   0.00000000e+00,\n",
       "         0.00000000e+00,   0.00000000e+00,   0.00000000e+00,\n",
       "         0.00000000e+00,   0.00000000e+00,   0.00000000e+00])"
      ]
     },
     "execution_count": 2,
     "metadata": {},
     "output_type": "execute_result"
    }
   ],
   "source": [
    "pkT"
   ]
  },
  {
   "cell_type": "code",
   "execution_count": 3,
   "metadata": {
    "collapsed": false
   },
   "outputs": [
    {
     "data": {
      "text/plain": [
       "0.70762659554082008"
      ]
     },
     "execution_count": 3,
     "metadata": {},
     "output_type": "execute_result"
    }
   ],
   "source": [
    "pkT.sum()"
   ]
  },
  {
   "cell_type": "code",
   "execution_count": 4,
   "metadata": {
    "collapsed": false
   },
   "outputs": [],
   "source": [
    "from matplotlib import pyplot as plt"
   ]
  },
  {
   "cell_type": "code",
   "execution_count": 9,
   "metadata": {
    "collapsed": false
   },
   "outputs": [
    {
     "data": {
      "image/png": "[encoded data removed]",
      "text/plain": [
       "<matplotlib.figure.Figure at 0x7f8108317c18>"
      ]
     },
     "metadata": {},
     "output_type": "display_data"
    }
   ],
   "source": [
    "plt.semilogy(np.arange(126),pkT)\n",
    "plt.title('plot of loss vs k for T='+str(T))\n",
    "plt.xlabel('k')\n",
    "plt.ylabel('log p_k(T)')\n",
    "plt.show()"
   ]
  },
  {
   "cell_type": "code",
   "execution_count": 13,
   "metadata": {
    "collapsed": false
   },
   "outputs": [],
   "source": []
  }
 ],
 "metadata": {
  "kernelspec": {
   "display_name": "Python 3",
   "language": "python",
   "name": "python3"
  },
  "language_info": {
   "codemirror_mode": {
    "name": "ipython",
    "version": 3
   },
   "file_extension": ".py",
   "mimetype": "text/x-python",
   "name": "python",
   "nbconvert_exporter": "python",
   "pygments_lexer": "ipython3",
   "version": "3.6.0"
  }
 },
 "nbformat": 4,
 "nbformat_minor": 2
}
